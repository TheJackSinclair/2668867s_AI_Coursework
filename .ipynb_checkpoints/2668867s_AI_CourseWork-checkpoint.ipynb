{
 "cells": [
  {
   "cell_type": "code",
   "execution_count": 1,
   "metadata": {
    "collapsed": true,
    "ExecuteTime": {
     "start_time": "2024-11-14T12:52:36.644818Z",
     "end_time": "2024-11-14T12:52:37.508666Z"
    }
   },
   "outputs": [],
   "source": [
    "import random\n",
    "from collections import deque\n",
    "import matplotlib.pyplot as plt\n",
    "from mazelib import Maze\n",
    "from mazelib.generate.Prims import Prims\n",
    "import numpy as np"
   ]
  },
  {
   "cell_type": "code",
   "execution_count": null,
   "outputs": [],
   "source": [
    "class MazeGenerator:\n",
    "    @staticmethod\n",
    "    def gen_maze(size, n_wormholes):\n",
    "        \"\"\"This generates a maze using mazelib as specified in the pdf\"\"\"\n",
    "        maze = Maze()\n",
    "        maze.generator = Prims(size // 2, size // 2)\n",
    "        maze.generate()\n",
    "        maze.generate_entrances(True, True)\n",
    "\n",
    "        \"\"\"This finds all the open cells (ones that aren't walls) and stores them in a list\"\"\"\n",
    "        open_cells = [(x, y) for x in range(size) for y in range(size) if maze.grid[x][y] == 0]\n",
    "\n",
    "        \"\"\"Security check to see if we have more wormholes than open cells\"\"\"\n",
    "        if len(open_cells) < 2 * n_wormholes:\n",
    "            raise ValueError(\"Not enough open cells for the specified number of teleport links.\")\n",
    "\n",
    "        \"\"\"Randomly pick some cells, using 2*wormholes since each wormhole needs an exit\"\"\"\n",
    "        selected_cells = random.sample(open_cells, 2 * n_wormholes)\n",
    "\n",
    "        \"\"\"Generate wormhole pairs\"\"\"\n",
    "        wormholes = [(selected_cells[i], selected_cells[i + 1]) for i in range(0, 2 * n_wormholes, 2)]\n",
    "\n",
    "        return maze, wormholes"
   ],
   "metadata": {
    "collapsed": false
   }
  },
  {
   "cell_type": "code",
   "execution_count": null,
   "outputs": [],
   "source": [
    "def bfs(maze, wormholes):\n",
    "    \"\"\"Defines our maze information such as where BFS should start and end and the directions it can take\"\"\"\n",
    "    directions = [(-1, 0), (1, 0), (0, -1), (0, 1)]\n",
    "    rows, cols = len(maze.grid), len(maze.grid[0])\n",
    "    start, end = maze.start, maze.end\n",
    "\n",
    "    \"\"\"Defines our empty queues and lists that will be updated as we search\"\"\"\n",
    "    queue = deque([(start, 0)])\n",
    "    visited = {start}\n",
    "    path = {start: None}\n",
    "    steps_map = {start: 0}\n",
    "    wormholes_map = {source: destination for source, destination in wormholes}\n",
    "    wormholes_map.update({destination: source for source, destination in wormholes})\n",
    "\n",
    "    \"\"\"While still searching\"\"\"\n",
    "    while queue:\n",
    "        (x, y), steps = queue.popleft()\n",
    "\n",
    "        \"\"\"If we reach the end, return the path and step info\"\"\"\n",
    "        if (x, y) == end:\n",
    "            final_path = []\n",
    "            current = end\n",
    "            while current is not None:\n",
    "                final_path.append(current)\n",
    "                current = path[current]\n",
    "            final_path.reverse()\n",
    "            return steps, final_path, steps_map\n",
    "\n",
    "        \"\"\"Explore each unvisited node and update path and step info\"\"\"\n",
    "        for dx, dy in directions:\n",
    "            nx, ny = x + dx, y + dy\n",
    "            if 0 <= nx < rows and 0 <= ny < cols and (maze.grid[nx][ny] == 0 or (nx, ny) == end) and (nx, ny) not in visited:\n",
    "                visited.add((nx, ny))\n",
    "                queue.append(((nx, ny), steps + 1))\n",
    "                path[(nx, ny)] = (x, y)\n",
    "                steps_map[(nx, ny)] = steps + 1\n",
    "\n",
    "        \"\"\"If we hit a wormhole, teleport and mark as visited\"\"\"\n",
    "        if (x, y) in wormholes_map:\n",
    "            tp_x, tp_y = wormholes_map[(x, y)]\n",
    "            if (tp_x, tp_y) not in visited:\n",
    "                visited.add((tp_x, tp_y))\n",
    "                queue.append(((tp_x, tp_y), steps + 1))\n",
    "                path[(tp_x, tp_y)] = (x, y)\n",
    "                steps_map[(tp_x, tp_y)] = steps + 1\n",
    "\n",
    "    \"\"\"No path found\"\"\"\n",
    "    return -1, [], steps_map\n"
   ],
   "metadata": {
    "collapsed": false
   }
  },
  {
   "cell_type": "code",
   "execution_count": null,
   "outputs": [],
   "source": [
    "def task1_render(m, path, step_count, wormholes, steps_map):\n",
    "    fig, ax = plt.subplots()\n",
    "    grid = np.array(m.grid, dtype=float)\n",
    "\n",
    "    \"\"\"Map maze walls and open cells for matplotlib\"\"\"\n",
    "    for x in range(grid.shape[0]):\n",
    "        for y in range(grid.shape[1]):\n",
    "            if grid[x, y] == 1:\n",
    "                grid[x, y] = 1\n",
    "\n",
    "    \"\"\"Change the color of the path and label it with the step number\"\"\"\n",
    "    for x, y in path:\n",
    "        grid[x, y] = 0.5\n",
    "        ax.text(y, x, str(steps_map[(x, y)]), ha='center', va='center', color='black', fontsize=8)\n",
    "\n",
    "    \"\"\"Color the start and end positions\"\"\"\n",
    "    start_x, start_y = m.start\n",
    "    end_x, end_y = m.end\n",
    "    grid[start_x, start_y] = 0.2  # Start position color\n",
    "    grid[end_x, end_y] = 0.8  # End position color\n",
    "\n",
    "    \"\"\"Color wormholes\"\"\"\n",
    "    for (x1, y1), (x2, y2) in wormholes:\n",
    "        grid[x1, y1] = 0.3\n",
    "        grid[x2, y2] = 0.3\n",
    "\n",
    "    \"\"\"Plot the maze\"\"\"\n",
    "    ax.imshow(grid, cmap='viridis', interpolation='none')\n",
    "    ax.axis('off')\n",
    "    plt.title(f\"Steps to Goal: {step_count}\")\n",
    "    plt.show()"
   ],
   "metadata": {
    "collapsed": false
   }
  },
  {
   "cell_type": "code",
   "execution_count": null,
   "outputs": [],
   "source": [
    "def task2_render():\n",
    "    sizes = [10, 15, 20, 25, 30]\n",
    "    steps_to_goal = []\n",
    "\n",
    "    for n in sizes:\n",
    "        generator = MazeGenerator()\n",
    "        maze, wormholes = generator.gen_maze(n, 2)\n",
    "        steps, _, _ = bfs(maze, wormholes)  # Only need the step count here\n",
    "        steps_to_goal.append(steps)\n",
    "        print(f\"Size: {n}x{n}, Steps to Goal: {steps}\")\n",
    "\n",
    "    plt.plot(sizes, steps_to_goal, marker='o', linestyle='-')\n",
    "    plt.xlabel(\"Maze Size (n x n)\")\n",
    "    plt.ylabel(\"Steps to Goal\")\n",
    "    plt.title(\"Effect of Maze Size on Steps to Goal\")\n",
    "    plt.grid(True)\n",
    "    plt.show()"
   ],
   "metadata": {
    "collapsed": false
   }
  },
  {
   "cell_type": "code",
   "execution_count": null,
   "outputs": [],
   "source": [
    " task2_render()"
   ],
   "metadata": {
    "collapsed": false
   }
  }
 ],
 "metadata": {
  "kernelspec": {
   "display_name": "Python 3",
   "language": "python",
   "name": "python3"
  },
  "language_info": {
   "codemirror_mode": {
    "name": "ipython",
    "version": 2
   },
   "file_extension": ".py",
   "mimetype": "text/x-python",
   "name": "python",
   "nbconvert_exporter": "python",
   "pygments_lexer": "ipython2",
   "version": "2.7.6"
  }
 },
 "nbformat": 4,
 "nbformat_minor": 0
}
